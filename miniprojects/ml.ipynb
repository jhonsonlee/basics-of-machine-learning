{
 "cells": [
  {
   "cell_type": "code",
   "execution_count": 2,
   "metadata": {
    "init_cell": true
   },
   "outputs": [],
   "source": [
    "%logstop\n",
    "%logstart -rtq ~/.logs/ml.py append\n",
    "%matplotlib inline\n",
    "import matplotlib\n",
    "import seaborn as sns\n",
    "sns.set()\n",
    "matplotlib.rcParams['figure.dpi'] = 144"
   ]
  },
  {
   "cell_type": "code",
   "execution_count": 3,
   "metadata": {},
   "outputs": [],
   "source": [
    "from static_grader import grader"
   ]
  },
  {
   "cell_type": "markdown",
   "metadata": {},
   "source": [
    "# ML Miniproject\n",
    "## Introduction\n",
    "\n",
    "The objective of this miniproject is to exercise your ability to create effective machine learning models for making predictions. We will be working with nursing home inspection data from the United States, predicting which providers may be fined and for how much.\n",
    "\n",
    "## Scoring\n",
    "\n",
    "In this miniproject you will often submit your model's `predict` or `predict_proba` method to the grader. The grader will assess the performance of your model using a scoring metric, comparing it against the score of a reference model. We will use the [average precision score](http://scikit-learn.org/stable/modules/generated/sklearn.metrics.average_precision_score.html). If your model performs better than the reference solution, then you can score higher than 1.0.\n",
    "\n",
    "**Note:** If you use an estimator that relies on random draws (like a `RandomForestClassifier`) you should set the `random_state=` to an integer so that your results are reproducible. \n",
    "\n",
    "## Downloading the data\n",
    "\n",
    "We can download the data set from Amazon S3:"
   ]
  },
  {
   "cell_type": "code",
   "execution_count": 4,
   "metadata": {},
   "outputs": [
    {
     "name": "stderr",
     "output_type": "stream",
     "text": [
      "mkdir: cannot create directory ‘data’: File exists\n",
      "File ‘./ml-data/providers-train.csv’ already there; not retrieving.\n",
      "\n",
      "File ‘./ml-data/providers-metadata.csv’ already there; not retrieving.\n",
      "\n"
     ]
    }
   ],
   "source": [
    "%%bash\n",
    "mkdir data\n",
    "wget http://dataincubator-wqu.s3.amazonaws.com/mldata/providers-train.csv -nc -P ./ml-data\n",
    "wget http://dataincubator-wqu.s3.amazonaws.com/mldata/providers-metadata.csv -nc -P ./ml-data"
   ]
  },
  {
   "cell_type": "markdown",
   "metadata": {},
   "source": [
    "We'll load the data into a Pandas DataFrame. Several columns will become target labels in future questions. Let's pop those columns out from the data, and drop related columns that are neither targets nor reasonable features (i.e. we don't wouldn't know how many times a facility denied payment before knowing whether it was fined).\n",
    "\n",
    "The data has many columns. We have also provided a data dictionary."
   ]
  },
  {
   "cell_type": "code",
   "execution_count": 5,
   "metadata": {},
   "outputs": [],
   "source": [
    "import numpy as np\n",
    "import pandas as pd"
   ]
  },
  {
   "cell_type": "code",
   "execution_count": 6,
   "metadata": {},
   "outputs": [
    {
     "data": {
      "text/html": [
       "<div>\n",
       "<style scoped>\n",
       "    .dataframe tbody tr th:only-of-type {\n",
       "        vertical-align: middle;\n",
       "    }\n",
       "\n",
       "    .dataframe tbody tr th {\n",
       "        vertical-align: top;\n",
       "    }\n",
       "\n",
       "    .dataframe thead th {\n",
       "        text-align: right;\n",
       "    }\n",
       "</style>\n",
       "<table border=\"1\" class=\"dataframe\">\n",
       "  <thead>\n",
       "    <tr style=\"text-align: right;\">\n",
       "      <th></th>\n",
       "      <th>Variable</th>\n",
       "      <th>Label</th>\n",
       "      <th>Description</th>\n",
       "      <th>Format</th>\n",
       "    </tr>\n",
       "  </thead>\n",
       "  <tbody>\n",
       "    <tr>\n",
       "      <th>0</th>\n",
       "      <td>PROVNUM</td>\n",
       "      <td>Federal Provider Number</td>\n",
       "      <td>Federal Provider Number</td>\n",
       "      <td>6 alphanumeric characters</td>\n",
       "    </tr>\n",
       "    <tr>\n",
       "      <th>1</th>\n",
       "      <td>PROVNAME</td>\n",
       "      <td>Provider Name</td>\n",
       "      <td>Provider Name</td>\n",
       "      <td>text</td>\n",
       "    </tr>\n",
       "    <tr>\n",
       "      <th>2</th>\n",
       "      <td>ADDRESS</td>\n",
       "      <td>Provider Address</td>\n",
       "      <td>Provider Address</td>\n",
       "      <td>text</td>\n",
       "    </tr>\n",
       "    <tr>\n",
       "      <th>3</th>\n",
       "      <td>CITY</td>\n",
       "      <td>Provider City</td>\n",
       "      <td>Provider City</td>\n",
       "      <td>text</td>\n",
       "    </tr>\n",
       "    <tr>\n",
       "      <th>4</th>\n",
       "      <td>STATE</td>\n",
       "      <td>Provider State</td>\n",
       "      <td>Provider State</td>\n",
       "      <td>2-character postal abbreviation</td>\n",
       "    </tr>\n",
       "  </tbody>\n",
       "</table>\n",
       "</div>"
      ],
      "text/plain": [
       "   Variable                    Label              Description  \\\n",
       "0   PROVNUM  Federal Provider Number  Federal Provider Number   \n",
       "1  PROVNAME            Provider Name            Provider Name   \n",
       "2   ADDRESS         Provider Address         Provider Address   \n",
       "3      CITY            Provider City            Provider City   \n",
       "4     STATE           Provider State           Provider State   \n",
       "\n",
       "                            Format  \n",
       "0        6 alphanumeric characters  \n",
       "1                             text  \n",
       "2                             text  \n",
       "3                             text  \n",
       "4  2-character postal abbreviation  "
      ]
     },
     "execution_count": 6,
     "metadata": {},
     "output_type": "execute_result"
    }
   ],
   "source": [
    "metadata = pd.read_csv('./ml-data/providers-metadata.csv')\n",
    "metadata.head()"
   ]
  },
  {
   "cell_type": "code",
   "execution_count": 7,
   "metadata": {},
   "outputs": [],
   "source": [
    "data = pd.read_csv('./ml-data/providers-train.csv', encoding='latin1')\n",
    "\n",
    "fine_counts = data.pop('FINE_CNT')\n",
    "fine_totals = data.pop('FINE_TOT')\n",
    "cycle_2_score = data.pop('CYCLE_2_TOTAL_SCORE')"
   ]
  },
  {
   "cell_type": "code",
   "execution_count": 8,
   "metadata": {},
   "outputs": [
    {
     "data": {
      "text/html": [
       "<div>\n",
       "<style scoped>\n",
       "    .dataframe tbody tr th:only-of-type {\n",
       "        vertical-align: middle;\n",
       "    }\n",
       "\n",
       "    .dataframe tbody tr th {\n",
       "        vertical-align: top;\n",
       "    }\n",
       "\n",
       "    .dataframe thead th {\n",
       "        text-align: right;\n",
       "    }\n",
       "</style>\n",
       "<table border=\"1\" class=\"dataframe\">\n",
       "  <thead>\n",
       "    <tr style=\"text-align: right;\">\n",
       "      <th></th>\n",
       "      <th>PROVNUM</th>\n",
       "      <th>PROVNAME</th>\n",
       "      <th>ADDRESS</th>\n",
       "      <th>CITY</th>\n",
       "      <th>STATE</th>\n",
       "      <th>ZIP</th>\n",
       "      <th>PHONE</th>\n",
       "      <th>COUNTY_SSA</th>\n",
       "      <th>COUNTY_NAME</th>\n",
       "      <th>BEDCERT</th>\n",
       "      <th>...</th>\n",
       "      <th>CERTIFICATION</th>\n",
       "      <th>CYCLE_1_DEFS</th>\n",
       "      <th>CYCLE_1_NFROMDEFS</th>\n",
       "      <th>CYCLE_1_NFROMCOMP</th>\n",
       "      <th>CYCLE_1_DEFS_SCORE</th>\n",
       "      <th>CYCLE_1_NUMREVIS</th>\n",
       "      <th>CYCLE_1_REVISIT_SCORE</th>\n",
       "      <th>CYCLE_1_TOTAL_SCORE</th>\n",
       "      <th>CYCLE_1_SURVEY_DATE</th>\n",
       "      <th>CYCLE_2_SURVEY_DATE</th>\n",
       "    </tr>\n",
       "  </thead>\n",
       "  <tbody>\n",
       "    <tr>\n",
       "      <th>0</th>\n",
       "      <td>015010</td>\n",
       "      <td>COOSA VALLEY NURSING FACILITY</td>\n",
       "      <td>315 WEST HICKORY STREET</td>\n",
       "      <td>SYLACAUGA</td>\n",
       "      <td>AL</td>\n",
       "      <td>35150</td>\n",
       "      <td>2562495604</td>\n",
       "      <td>600</td>\n",
       "      <td>Talladega</td>\n",
       "      <td>85</td>\n",
       "      <td>...</td>\n",
       "      <td>Medicare and Medicaid</td>\n",
       "      <td>7</td>\n",
       "      <td>7</td>\n",
       "      <td>0</td>\n",
       "      <td>36</td>\n",
       "      <td>1</td>\n",
       "      <td>0</td>\n",
       "      <td>36</td>\n",
       "      <td>2017-04-06</td>\n",
       "      <td>2016-05-26</td>\n",
       "    </tr>\n",
       "    <tr>\n",
       "      <th>1</th>\n",
       "      <td>015012</td>\n",
       "      <td>HIGHLANDS HEALTH AND REHAB</td>\n",
       "      <td>380 WOODS COVE ROAD</td>\n",
       "      <td>SCOTTSBORO</td>\n",
       "      <td>AL</td>\n",
       "      <td>35768</td>\n",
       "      <td>2562183708</td>\n",
       "      <td>350</td>\n",
       "      <td>Jackson</td>\n",
       "      <td>50</td>\n",
       "      <td>...</td>\n",
       "      <td>Medicare and Medicaid</td>\n",
       "      <td>5</td>\n",
       "      <td>5</td>\n",
       "      <td>0</td>\n",
       "      <td>44</td>\n",
       "      <td>1</td>\n",
       "      <td>0</td>\n",
       "      <td>44</td>\n",
       "      <td>2017-03-16</td>\n",
       "      <td>2016-02-04</td>\n",
       "    </tr>\n",
       "    <tr>\n",
       "      <th>2</th>\n",
       "      <td>015014</td>\n",
       "      <td>EASTVIEW REHABILITATION &amp; HEALTHCARE CENTER</td>\n",
       "      <td>7755 FOURTH AVENUE SOUTH</td>\n",
       "      <td>BIRMINGHAM</td>\n",
       "      <td>AL</td>\n",
       "      <td>35206</td>\n",
       "      <td>2058330146</td>\n",
       "      <td>360</td>\n",
       "      <td>Jefferson</td>\n",
       "      <td>92</td>\n",
       "      <td>...</td>\n",
       "      <td>Medicare and Medicaid</td>\n",
       "      <td>6</td>\n",
       "      <td>6</td>\n",
       "      <td>0</td>\n",
       "      <td>40</td>\n",
       "      <td>1</td>\n",
       "      <td>0</td>\n",
       "      <td>40</td>\n",
       "      <td>2016-10-20</td>\n",
       "      <td>2015-12-30</td>\n",
       "    </tr>\n",
       "    <tr>\n",
       "      <th>3</th>\n",
       "      <td>015015</td>\n",
       "      <td>PLANTATION MANOR NURSING HOME</td>\n",
       "      <td>6450 OLD TUSCALOOSA HIGHWAY   P O BOX 97</td>\n",
       "      <td>MC CALLA</td>\n",
       "      <td>AL</td>\n",
       "      <td>35111</td>\n",
       "      <td>2054776161</td>\n",
       "      <td>360</td>\n",
       "      <td>Jefferson</td>\n",
       "      <td>103</td>\n",
       "      <td>...</td>\n",
       "      <td>Medicare and Medicaid</td>\n",
       "      <td>2</td>\n",
       "      <td>2</td>\n",
       "      <td>0</td>\n",
       "      <td>16</td>\n",
       "      <td>1</td>\n",
       "      <td>0</td>\n",
       "      <td>16</td>\n",
       "      <td>2017-03-09</td>\n",
       "      <td>2016-02-11</td>\n",
       "    </tr>\n",
       "    <tr>\n",
       "      <th>4</th>\n",
       "      <td>015016</td>\n",
       "      <td>ATHENS HEALTH AND REHABILITATION LLC</td>\n",
       "      <td>611 WEST MARKET STREET</td>\n",
       "      <td>ATHENS</td>\n",
       "      <td>AL</td>\n",
       "      <td>35611</td>\n",
       "      <td>2562321620</td>\n",
       "      <td>410</td>\n",
       "      <td>Limestone</td>\n",
       "      <td>149</td>\n",
       "      <td>...</td>\n",
       "      <td>Medicare and Medicaid</td>\n",
       "      <td>2</td>\n",
       "      <td>2</td>\n",
       "      <td>0</td>\n",
       "      <td>20</td>\n",
       "      <td>1</td>\n",
       "      <td>0</td>\n",
       "      <td>20</td>\n",
       "      <td>2017-06-01</td>\n",
       "      <td>2016-05-12</td>\n",
       "    </tr>\n",
       "  </tbody>\n",
       "</table>\n",
       "<p>5 rows × 29 columns</p>\n",
       "</div>"
      ],
      "text/plain": [
       "  PROVNUM                                     PROVNAME  \\\n",
       "0  015010                COOSA VALLEY NURSING FACILITY   \n",
       "1  015012                   HIGHLANDS HEALTH AND REHAB   \n",
       "2  015014  EASTVIEW REHABILITATION & HEALTHCARE CENTER   \n",
       "3  015015                PLANTATION MANOR NURSING HOME   \n",
       "4  015016         ATHENS HEALTH AND REHABILITATION LLC   \n",
       "\n",
       "                                    ADDRESS        CITY STATE    ZIP  \\\n",
       "0                   315 WEST HICKORY STREET   SYLACAUGA    AL  35150   \n",
       "1                       380 WOODS COVE ROAD  SCOTTSBORO    AL  35768   \n",
       "2                  7755 FOURTH AVENUE SOUTH  BIRMINGHAM    AL  35206   \n",
       "3  6450 OLD TUSCALOOSA HIGHWAY   P O BOX 97    MC CALLA    AL  35111   \n",
       "4                    611 WEST MARKET STREET      ATHENS    AL  35611   \n",
       "\n",
       "        PHONE  COUNTY_SSA COUNTY_NAME  BEDCERT  ...          CERTIFICATION  \\\n",
       "0  2562495604         600   Talladega       85  ...  Medicare and Medicaid   \n",
       "1  2562183708         350     Jackson       50  ...  Medicare and Medicaid   \n",
       "2  2058330146         360   Jefferson       92  ...  Medicare and Medicaid   \n",
       "3  2054776161         360   Jefferson      103  ...  Medicare and Medicaid   \n",
       "4  2562321620         410   Limestone      149  ...  Medicare and Medicaid   \n",
       "\n",
       "   CYCLE_1_DEFS  CYCLE_1_NFROMDEFS  CYCLE_1_NFROMCOMP  CYCLE_1_DEFS_SCORE  \\\n",
       "0             7                  7                  0                  36   \n",
       "1             5                  5                  0                  44   \n",
       "2             6                  6                  0                  40   \n",
       "3             2                  2                  0                  16   \n",
       "4             2                  2                  0                  20   \n",
       "\n",
       "   CYCLE_1_NUMREVIS  CYCLE_1_REVISIT_SCORE  CYCLE_1_TOTAL_SCORE  \\\n",
       "0                 1                      0                   36   \n",
       "1                 1                      0                   44   \n",
       "2                 1                      0                   40   \n",
       "3                 1                      0                   16   \n",
       "4                 1                      0                   20   \n",
       "\n",
       "  CYCLE_1_SURVEY_DATE CYCLE_2_SURVEY_DATE  \n",
       "0          2017-04-06          2016-05-26  \n",
       "1          2017-03-16          2016-02-04  \n",
       "2          2016-10-20          2015-12-30  \n",
       "3          2017-03-09          2016-02-11  \n",
       "4          2017-06-01          2016-05-12  \n",
       "\n",
       "[5 rows x 29 columns]"
      ]
     },
     "execution_count": 8,
     "metadata": {},
     "output_type": "execute_result"
    }
   ],
   "source": [
    "data.head()"
   ]
  },
  {
   "cell_type": "markdown",
   "metadata": {},
   "source": [
    "## Question 1: state_model\n",
    "\n",
    "A federal agency, Centers for Medicare and Medicaid Services (CMS), imposes regulations on nursing homes. However, nursing homes are inspected by state agencies for compliance with regulations, and fines for violations can vary widely between states.\n",
    "\n",
    "Let's develop a very simple initial model to predict the amount of fines a nursing home might expect to pay based on its location. Fill in the class definition of the custom estimator, `StateMeanEstimator`, below."
   ]
  },
  {
   "cell_type": "code",
   "execution_count": 9,
   "metadata": {},
   "outputs": [],
   "source": [
    "from sklearn.base import BaseEstimator, RegressorMixin, TransformerMixin\n",
    "\n",
    "class GroupMeanEstimator(BaseEstimator, RegressorMixin):\n",
    "    def __init__(self, grouper):\n",
    "        self.grouper = grouper\n",
    "        self.group_averages = {}\n",
    "\n",
    "    def fit(self, X, y):\n",
    "        # Use self.group_averages to store the average penalty by group\n",
    "        grouper_series = X[self.grouper]\n",
    "        frame = {self.grouper : grouper_series, 'y' : y}\n",
    "        pnlt_df = pd.DataFrame(frame)\n",
    "        \n",
    "        for index, avg_pnlt in pnlt_df.groupby(self.grouper).mean().iterrows():\n",
    "            self.group_averages[index] = avg_pnlt.item()    \n",
    "        \n",
    "        return self\n",
    "\n",
    "    def predict(self, X):\n",
    "        # Return a list of predicted penalties based on group of samples in X\n",
    "        if not isinstance(X, pd.DataFrame):\n",
    "            X_df = pd.DataFrame(X)\n",
    "        else:\n",
    "            X_df = X\n",
    "        \n",
    "        return [self.group_averages[item] if item in self.group_averages else 0.0 \\\n",
    "                for _, item in X_df[self.grouper].items()]"
   ]
  },
  {
   "cell_type": "markdown",
   "metadata": {},
   "source": [
    "After filling in class definition, we can create an instance of the estimator and fit it to the data."
   ]
  },
  {
   "cell_type": "code",
   "execution_count": 22,
   "metadata": {},
   "outputs": [
    {
     "name": "stderr",
     "output_type": "stream",
     "text": [
      "/opt/conda/lib/python3.7/site-packages/ipykernel_launcher.py:15: FutureWarning: `item` has been deprecated and will be removed in a future version\n",
      "  from ipykernel import kernelapp as app\n"
     ]
    },
    {
     "data": {
      "text/plain": [
       "Pipeline(memory=None, steps=[('sme', GroupMeanEstimator(grouper='STATE'))],\n",
       "         verbose=False)"
      ]
     },
     "execution_count": 22,
     "metadata": {},
     "output_type": "execute_result"
    }
   ],
   "source": [
    "from sklearn.pipeline import Pipeline\n",
    "\n",
    "state_model = Pipeline([\n",
    "    ('sme', GroupMeanEstimator(grouper='STATE'))\n",
    "    ])\n",
    "state_model.fit(data, fine_totals)"
   ]
  },
  {
   "cell_type": "markdown",
   "metadata": {},
   "source": [
    "Next we should test that our predict method works."
   ]
  },
  {
   "cell_type": "code",
   "execution_count": 23,
   "metadata": {},
   "outputs": [
    {
     "data": {
      "text/plain": [
       "[8054.977611940299,\n",
       " 5626.954545454545,\n",
       " 16612.338211382114,\n",
       " 17596.6815920398,\n",
       " 42741.942028985504]"
      ]
     },
     "execution_count": 23,
     "metadata": {},
     "output_type": "execute_result"
    }
   ],
   "source": [
    "state_model.predict(data.sample(5))"
   ]
  },
  {
   "cell_type": "markdown",
   "metadata": {},
   "source": [
    "However, what if we have data from a nursing home in a state (or territory) of the US which is not in the training data?"
   ]
  },
  {
   "cell_type": "code",
   "execution_count": 24,
   "metadata": {},
   "outputs": [
    {
     "data": {
      "text/plain": [
       "[0.0]"
      ]
     },
     "execution_count": 24,
     "metadata": {},
     "output_type": "execute_result"
    }
   ],
   "source": [
    "state_model.predict(pd.DataFrame([{'STATE': 'AS'}]))"
   ]
  },
  {
   "cell_type": "markdown",
   "metadata": {},
   "source": [
    "Make sure your model can handle this possibility before submitting your model's predict method to the grader."
   ]
  },
  {
   "cell_type": "code",
   "execution_count": 25,
   "metadata": {},
   "outputs": [
    {
     "name": "stdout",
     "output_type": "stream",
     "text": [
      "==================\n",
      "Your score:  0.981132075471698\n",
      "==================\n"
     ]
    }
   ],
   "source": [
    "grader.score.ml__state_model(state_model.predict)"
   ]
  },
  {
   "cell_type": "markdown",
   "metadata": {},
   "source": [
    "## Question 2: simple_features_model\n",
    "\n",
    "Nursing homes vary greatly in their business characteristics. Some are owned by the government or non-profits while others are run for profit. Some house a few dozen residents while others house hundreds. Some are located within hospitals and may work with more vulnerable populations. We will try to predict which facilities are fined based on their business characteristics.\n",
    "\n",
    "We'll begin with columns in our DataFrame containing numeric and boolean features. Some of the rows contain null values; estimators cannot handle null values so these must be imputed or dropped. We will create a `Pipeline` containing transformers that process these features, followed by an estimator.\n",
    "\n",
    "**Note:** When the grader checks your answer, it passes a list of dictionaries to the `predict` or `predict_proba` method of your estimator, not a DataFrame. This means that your model must work with both data types. For this reason, we've provided a custom `ColumnSelectTransformer` for you to use instead `scikit-learn`'s own `ColumnTransformer`."
   ]
  },
  {
   "cell_type": "code",
   "execution_count": 26,
   "metadata": {},
   "outputs": [],
   "source": [
    "\n",
    "simple_cols = ['BEDCERT', 'RESTOT', 'INHOSP', 'CCRC_FACIL', 'SFF', 'CHOW_LAST_12MOS', 'SPRINKLER_STATUS', 'EXP_TOTAL', 'ADJ_TOTAL']\n",
    "\n",
    "class ColumnSelectTransformer(BaseEstimator, TransformerMixin):\n",
    "    def __init__(self, columns):\n",
    "        self.columns = columns\n",
    "\n",
    "    def fit(self, X, y=None):\n",
    "        return self\n",
    "\n",
    "    def transform(self, X):\n",
    "        if not isinstance(X, pd.DataFrame):\n",
    "            X = pd.DataFrame(X)\n",
    "        return X[self.columns].to_numpy()\n",
    "        \n",
    "simple_features = Pipeline([\n",
    "    ('cst', ColumnSelectTransformer(simple_cols)),\n",
    "])"
   ]
  },
  {
   "cell_type": "markdown",
   "metadata": {},
   "source": [
    "**Note:** The assertion below assumes the output of `noncategorical_features.fit_transform` is a `ndarray`, not a `DataFrame`.)"
   ]
  },
  {
   "cell_type": "code",
   "execution_count": 27,
   "metadata": {},
   "outputs": [],
   "source": [
    "assert data['RESTOT'].isnull().sum() > 0\n",
    "#assert not np.isnan(simple_features.fit_transform(data)).any()"
   ]
  },
  {
   "cell_type": "markdown",
   "metadata": {},
   "source": [
    "Now combine the `simple_features` pipeline with an estimator in a new pipeline. Fit `simple_features_model` to the data and submit `simple_features_model.predict_proba` to the grader. You may wish to use cross-validation to tune the hyperparameters of your model."
   ]
  },
  {
   "cell_type": "code",
   "execution_count": 28,
   "metadata": {},
   "outputs": [],
   "source": [
    "from sklearn.preprocessing import StandardScaler\n",
    "from sklearn.linear_model import LogisticRegression\n",
    "from sklearn.impute import SimpleImputer\n",
    "\n",
    "simple_features_model = Pipeline([\n",
    "    ('simple', simple_features),\n",
    "    # add your estimator here\n",
    "    ('imputer', SimpleImputer(missing_values=np.nan, strategy='mean')),\n",
    "    ('scaler', StandardScaler()),\n",
    "    ('estimator', LogisticRegression())\n",
    "])"
   ]
  },
  {
   "cell_type": "code",
   "execution_count": 29,
   "metadata": {},
   "outputs": [
    {
     "name": "stderr",
     "output_type": "stream",
     "text": [
      "/opt/conda/lib/python3.7/site-packages/sklearn/linear_model/logistic.py:432: FutureWarning: Default solver will be changed to 'lbfgs' in 0.22. Specify a solver to silence this warning.\n",
      "  FutureWarning)\n"
     ]
    },
    {
     "data": {
      "text/plain": [
       "Pipeline(memory=None,\n",
       "         steps=[('simple',\n",
       "                 Pipeline(memory=None,\n",
       "                          steps=[('cst',\n",
       "                                  ColumnSelectTransformer(columns=['BEDCERT',\n",
       "                                                                   'RESTOT',\n",
       "                                                                   'INHOSP',\n",
       "                                                                   'CCRC_FACIL',\n",
       "                                                                   'SFF',\n",
       "                                                                   'CHOW_LAST_12MOS',\n",
       "                                                                   'SPRINKLER_STATUS',\n",
       "                                                                   'EXP_TOTAL',\n",
       "                                                                   'ADJ_TOTAL']))],\n",
       "                          verbose=False)),\n",
       "                ('imputer',\n",
       "                 SimpleImputer(add_indicator=False, copy=True, fill_value=None,\n",
       "                               missing_values=nan, strategy='mean',\n",
       "                               verbose=0)),\n",
       "                ('scaler',\n",
       "                 StandardScaler(copy=True, with_mean=True, with_std=True)),\n",
       "                ('estimator',\n",
       "                 LogisticRegression(C=1.0, class_weight=None, dual=False,\n",
       "                                    fit_intercept=True, intercept_scaling=1,\n",
       "                                    l1_ratio=None, max_iter=100,\n",
       "                                    multi_class='warn', n_jobs=None,\n",
       "                                    penalty='l2', random_state=None,\n",
       "                                    solver='warn', tol=0.0001, verbose=0,\n",
       "                                    warm_start=False))],\n",
       "         verbose=False)"
      ]
     },
     "execution_count": 29,
     "metadata": {},
     "output_type": "execute_result"
    }
   ],
   "source": [
    "simple_features_model.fit(data, fine_counts > 0)"
   ]
  },
  {
   "cell_type": "code",
   "execution_count": 30,
   "metadata": {},
   "outputs": [
    {
     "name": "stdout",
     "output_type": "stream",
     "text": [
      "==================\n",
      "Your score:  1.0034336461366984\n",
      "==================\n"
     ]
    }
   ],
   "source": [
    "def positive_probability(model):\n",
    "    def predict_proba(X):\n",
    "        return model.predict_proba(X)[:, 1]\n",
    "    return predict_proba\n",
    "\n",
    "grader.score.ml__simple_features(positive_probability(simple_features_model))"
   ]
  },
  {
   "cell_type": "markdown",
   "metadata": {},
   "source": [
    "## Question 3: categorical_features"
   ]
  },
  {
   "cell_type": "markdown",
   "metadata": {},
   "source": [
    "The `'OWNERSHIP'` and `'CERTIFICATION'` columns contain categorical data. We will have to encode the categorical data into numerical features before we pass them to an estimator. Construct one or more pipelines for this purpose. Transformers such as [LabelEncoder](https://scikit-learn.org/0.19/modules/generated/sklearn.preprocessing.LabelEncoder.html#sklearn.preprocessing.LabelEncoder) and [OneHotEncoder](https://scikit-learn.org/0.19/modules/generated/sklearn.preprocessing.OneHotEncoder.html#sklearn.preprocessing.OneHotEncoder) may be useful, but you may also want to define your own transformers.\n",
    "\n",
    "If you used more than one `Pipeline`, combine them with a `FeatureUnion`. As in Question 2, we will combine this with an estimator, fit it, and submit the `predict_proba` method to the grader."
   ]
  },
  {
   "cell_type": "code",
   "execution_count": 31,
   "metadata": {},
   "outputs": [],
   "source": [
    "from sklearn.pipeline import FeatureUnion\n",
    "from sklearn.preprocessing import OneHotEncoder\n",
    "\n",
    "owner_onehot = Pipeline([\n",
    "    ('cst', ColumnSelectTransformer(['OWNERSHIP'])),\n",
    "    ('onehotenc', OneHotEncoder())\n",
    "])\n",
    "\n",
    "cert_onehot = Pipeline([\n",
    "    ('cst', ColumnSelectTransformer(['CERTIFICATION'])),\n",
    "    ('onehotenc', OneHotEncoder())\n",
    "])\n",
    "\n",
    "categorical_features = FeatureUnion([('owner_onehot', owner_onehot),\n",
    "                                     ('cert_onehot', cert_onehot)\n",
    "])"
   ]
  },
  {
   "cell_type": "code",
   "execution_count": 32,
   "metadata": {},
   "outputs": [],
   "source": [
    "assert categorical_features.fit_transform(data).shape[0] == data.shape[0]\n",
    "assert categorical_features.fit_transform(data).dtype == np.float64\n",
    "#assert not np.isnan(categorical_features.fit_transform(data)).any()"
   ]
  },
  {
   "cell_type": "markdown",
   "metadata": {},
   "source": [
    "As in the previous question, create a model using the `categorical_features`, fit it to the data, and submit its `predict_proba` method to the grader."
   ]
  },
  {
   "cell_type": "code",
   "execution_count": 33,
   "metadata": {},
   "outputs": [],
   "source": [
    "categorical_features_model = Pipeline([\n",
    "    ('categorical', categorical_features),\n",
    "    # add your estimator here\n",
    "    ('estimator', LogisticRegression())\n",
    "])"
   ]
  },
  {
   "cell_type": "code",
   "execution_count": 34,
   "metadata": {},
   "outputs": [
    {
     "name": "stderr",
     "output_type": "stream",
     "text": [
      "/opt/conda/lib/python3.7/site-packages/sklearn/linear_model/logistic.py:432: FutureWarning: Default solver will be changed to 'lbfgs' in 0.22. Specify a solver to silence this warning.\n",
      "  FutureWarning)\n"
     ]
    },
    {
     "data": {
      "text/plain": [
       "Pipeline(memory=None,\n",
       "         steps=[('categorical',\n",
       "                 FeatureUnion(n_jobs=None,\n",
       "                              transformer_list=[('owner_onehot',\n",
       "                                                 Pipeline(memory=None,\n",
       "                                                          steps=[('cst',\n",
       "                                                                  ColumnSelectTransformer(columns=['OWNERSHIP'])),\n",
       "                                                                 ('onehotenc',\n",
       "                                                                  OneHotEncoder(categorical_features=None,\n",
       "                                                                                categories=None,\n",
       "                                                                                drop=None,\n",
       "                                                                                dtype=<class 'numpy.float64'>,\n",
       "                                                                                handle_unknown='error',\n",
       "                                                                                n_values=None,\n",
       "                                                                                sparse=True))],\n",
       "                                                          verbo...\n",
       "                                                                                n_values=None,\n",
       "                                                                                sparse=True))],\n",
       "                                                          verbose=False))],\n",
       "                              transformer_weights=None, verbose=False)),\n",
       "                ('estimator',\n",
       "                 LogisticRegression(C=1.0, class_weight=None, dual=False,\n",
       "                                    fit_intercept=True, intercept_scaling=1,\n",
       "                                    l1_ratio=None, max_iter=100,\n",
       "                                    multi_class='warn', n_jobs=None,\n",
       "                                    penalty='l2', random_state=None,\n",
       "                                    solver='warn', tol=0.0001, verbose=0,\n",
       "                                    warm_start=False))],\n",
       "         verbose=False)"
      ]
     },
     "execution_count": 34,
     "metadata": {},
     "output_type": "execute_result"
    }
   ],
   "source": [
    "categorical_features_model.fit(data, fine_counts > 0)"
   ]
  },
  {
   "cell_type": "code",
   "execution_count": 35,
   "metadata": {},
   "outputs": [
    {
     "name": "stdout",
     "output_type": "stream",
     "text": [
      "==================\n",
      "Your score:  0.9366511794138701\n",
      "==================\n"
     ]
    }
   ],
   "source": [
    "grader.score.ml__categorical_features(positive_probability(categorical_features_model))"
   ]
  },
  {
   "cell_type": "markdown",
   "metadata": {},
   "source": [
    "## Question 4: business_model"
   ]
  },
  {
   "cell_type": "markdown",
   "metadata": {},
   "source": [
    "Finally, we'll combine `simple_features` and `categorical_features` in a `FeatureUnion`, followed by an estimator in a `Pipeline`. You may want to optimize the hyperparameters of your estimator using cross-validation or try engineering new features (e.g. see [PolynomialFeatures](https://scikit-learn.org/stable/modules/generated/sklearn.preprocessing.PolynomialFeatures.html)). When you've assembled and trained your model, pass the `predict_proba` method to the grader."
   ]
  },
  {
   "cell_type": "code",
   "execution_count": 36,
   "metadata": {},
   "outputs": [],
   "source": [
    "simple_features = Pipeline([\n",
    "    ('cst', ColumnSelectTransformer(simple_cols)),\n",
    "    ('imputer', SimpleImputer(missing_values=np.nan, strategy='mean')),\n",
    "    ('scaler', StandardScaler()),\n",
    "])\n",
    "\n",
    "business_features = FeatureUnion([\n",
    "    ('simple', simple_features),\n",
    "    ('categorical', categorical_features)\n",
    "])"
   ]
  },
  {
   "cell_type": "code",
   "execution_count": 37,
   "metadata": {},
   "outputs": [],
   "source": [
    "\n",
    "business_model = Pipeline([\n",
    "    ('features', business_features),\n",
    "    # add your estimator here        \n",
    "    ('estimator', LogisticRegression())\n",
    "])"
   ]
  },
  {
   "cell_type": "code",
   "execution_count": 38,
   "metadata": {},
   "outputs": [
    {
     "name": "stderr",
     "output_type": "stream",
     "text": [
      "/opt/conda/lib/python3.7/site-packages/sklearn/linear_model/logistic.py:432: FutureWarning: Default solver will be changed to 'lbfgs' in 0.22. Specify a solver to silence this warning.\n",
      "  FutureWarning)\n"
     ]
    },
    {
     "data": {
      "text/plain": [
       "Pipeline(memory=None,\n",
       "         steps=[('features',\n",
       "                 FeatureUnion(n_jobs=None,\n",
       "                              transformer_list=[('simple',\n",
       "                                                 Pipeline(memory=None,\n",
       "                                                          steps=[('cst',\n",
       "                                                                  ColumnSelectTransformer(columns=['BEDCERT',\n",
       "                                                                                                   'RESTOT',\n",
       "                                                                                                   'INHOSP',\n",
       "                                                                                                   'CCRC_FACIL',\n",
       "                                                                                                   'SFF',\n",
       "                                                                                                   'CHOW_LAST_12MOS',\n",
       "                                                                                                   'SPRINKLER_STATUS',\n",
       "                                                                                                   'EXP_TOTAL',\n",
       "                                                                                                   'ADJ_TOTAL'])),\n",
       "                                                                 ('imputer',\n",
       "                                                                  SimpleImputer(add_indicator=False,\n",
       "                                                                                copy=True,\n",
       "                                                                                fill_value=None,\n",
       "                                                                                missing...\n",
       "                                                                                          verbose=False))],\n",
       "                                                              transformer_weights=None,\n",
       "                                                              verbose=False))],\n",
       "                              transformer_weights=None, verbose=False)),\n",
       "                ('estimator',\n",
       "                 LogisticRegression(C=1.0, class_weight=None, dual=False,\n",
       "                                    fit_intercept=True, intercept_scaling=1,\n",
       "                                    l1_ratio=None, max_iter=100,\n",
       "                                    multi_class='warn', n_jobs=None,\n",
       "                                    penalty='l2', random_state=None,\n",
       "                                    solver='warn', tol=0.0001, verbose=0,\n",
       "                                    warm_start=False))],\n",
       "         verbose=False)"
      ]
     },
     "execution_count": 38,
     "metadata": {},
     "output_type": "execute_result"
    }
   ],
   "source": [
    "business_model.fit(data, fine_counts > 0)"
   ]
  },
  {
   "cell_type": "code",
   "execution_count": 39,
   "metadata": {},
   "outputs": [
    {
     "name": "stdout",
     "output_type": "stream",
     "text": [
      "==================\n",
      "Error!\n",
      "You have been rate limited for exceeding the limit of 3 per 1 minute.\n",
      "Please slow down your submission rate.\n",
      "==================\n"
     ]
    }
   ],
   "source": [
    "grader.score.ml__business_model(positive_probability(business_model))"
   ]
  },
  {
   "cell_type": "markdown",
   "metadata": {},
   "source": [
    "## Question 5: survey_results"
   ]
  },
  {
   "cell_type": "markdown",
   "metadata": {},
   "source": [
    "Surveys reveal safety and health deficiencies at nursing homes that may indicate risk for incidents (and penalties). CMS routinely makes surveys of nursing homes. Build a model that combines the `business_features` of each facility with its cycle 1 survey results, as well as the time between the cycle 1 and cycle 2 survey to predict the cycle 2 total score.\n",
    "\n",
    "First, let's create a transformer to calculate the difference in time between the cycle 1 and cycle 2 surveys."
   ]
  },
  {
   "cell_type": "code",
   "execution_count": 61,
   "metadata": {},
   "outputs": [],
   "source": [
    "class TimedeltaTransformer(BaseEstimator, TransformerMixin):\n",
    "    def __init__(self, t1_col, t2_col):\n",
    "        self.t1_col = t1_col\n",
    "        self.t2_col = t2_col\n",
    "\n",
    "    def fit(self, X, y=None):\n",
    "        return self\n",
    "\n",
    "    def transform(self, X):\n",
    "        if not isinstance(X, pd.DataFrame):\n",
    "            X_df = pd.DataFrame(X)\n",
    "        else:\n",
    "            X_df = X\n",
    "        \n",
    "        t1_date = pd.to_datetime(X_df[self.t1_col])\n",
    "        t2_date = pd.to_datetime(X_df[self.t2_col])\n",
    "        duration_series = t1_date - t2_date\n",
    "        \n",
    "        duration_array = []\n",
    "        for item in duration_series:\n",
    "            duration_array.append(item.days)\n",
    "        \n",
    "        return np.array(duration_array).reshape(-1,1)"
   ]
  },
  {
   "cell_type": "code",
   "execution_count": 62,
   "metadata": {},
   "outputs": [],
   "source": [
    "cycle_1_date = 'CYCLE_1_SURVEY_DATE'\n",
    "cycle_2_date = 'CYCLE_2_SURVEY_DATE'\n",
    "time_feature = TimedeltaTransformer(cycle_1_date, cycle_2_date)"
   ]
  },
  {
   "cell_type": "markdown",
   "metadata": {},
   "source": [
    "In the cell below we'll collect the cycle 1 survey features."
   ]
  },
  {
   "cell_type": "code",
   "execution_count": 63,
   "metadata": {},
   "outputs": [],
   "source": [
    "cycle_1_cols = ['CYCLE_1_DEFS', 'CYCLE_1_NFROMDEFS', 'CYCLE_1_NFROMCOMP',\n",
    "                'CYCLE_1_DEFS_SCORE', 'CYCLE_1_NUMREVIS',\n",
    "                'CYCLE_1_REVISIT_SCORE', 'CYCLE_1_TOTAL_SCORE']\n",
    "cycle_1_features = ColumnSelectTransformer(cycle_1_cols)"
   ]
  },
  {
   "cell_type": "code",
   "execution_count": 79,
   "metadata": {},
   "outputs": [],
   "source": [
    "from sklearn.ensemble import RandomForestRegressor\n",
    "from sklearn.decomposition import TruncatedSVD\n",
    "from sklearn.linear_model import Lasso\n",
    "from sklearn.model_selection import GridSearchCV\n",
    "from sklearn.pipeline import FeatureUnion\n",
    "from sklearn.preprocessing import PolynomialFeatures\n",
    "\n",
    "survey_model = Pipeline([\n",
    "    ('features', FeatureUnion([\n",
    "        ('business', business_features),\n",
    "        ('survey', cycle_1_features),\n",
    "        ('time', time_feature)\n",
    "    ])),\n",
    "    # add your estimator here\n",
    "    ('poly', PolynomialFeatures(2)),\n",
    "    ('decomp', TruncatedSVD(20)),\n",
    "    ('estimator', RandomForestRegressor(random_state = 0,\n",
    "                                        n_estimators=200,\n",
    "                                        min_samples_leaf = 100))\n",
    "    \n",
    "])"
   ]
  },
  {
   "cell_type": "code",
   "execution_count": 80,
   "metadata": {},
   "outputs": [
    {
     "data": {
      "text/plain": [
       "Pipeline(memory=None,\n",
       "         steps=[('features',\n",
       "                 FeatureUnion(n_jobs=None,\n",
       "                              transformer_list=[('business',\n",
       "                                                 FeatureUnion(n_jobs=None,\n",
       "                                                              transformer_list=[('simple',\n",
       "                                                                                 Pipeline(memory=None,\n",
       "                                                                                          steps=[('cst',\n",
       "                                                                                                  ColumnSelectTransformer(columns=['BEDCERT',\n",
       "                                                                                                                                   'RESTOT',\n",
       "                                                                                                                                   'INHOSP',\n",
       "                                                                                                                                   'CCRC_FACIL',\n",
       "                                                                                                                                   'SFF',\n",
       "                                                                                                                                   'CHOW_LAST_12MOS',\n",
       "                                                                                                                                   'SPRINKLER_STATUS',\n",
       "                                                                                                                                   'EXP_TOTAL',\n",
       "                                                                                                                                   'ADJ_TOTAL'])),\n",
       "                                                                                                 ('imputer',\n",
       "                                                                                                  SimpleImpute...\n",
       "                                    interaction_only=False, order='C')),\n",
       "                ('estimator',\n",
       "                 RandomForestRegressor(bootstrap=True, criterion='mse',\n",
       "                                       max_depth=None, max_features='auto',\n",
       "                                       max_leaf_nodes=None,\n",
       "                                       min_impurity_decrease=0.0,\n",
       "                                       min_impurity_split=None,\n",
       "                                       min_samples_leaf=100,\n",
       "                                       min_samples_split=2,\n",
       "                                       min_weight_fraction_leaf=0.0,\n",
       "                                       n_estimators=200, n_jobs=None,\n",
       "                                       oob_score=False, random_state=0,\n",
       "                                       verbose=0, warm_start=False))],\n",
       "         verbose=False)"
      ]
     },
     "execution_count": 80,
     "metadata": {},
     "output_type": "execute_result"
    }
   ],
   "source": [
    "survey_model.fit(data, cycle_2_score.astype(int))"
   ]
  },
  {
   "cell_type": "code",
   "execution_count": 75,
   "metadata": {},
   "outputs": [
    {
     "name": "stdout",
     "output_type": "stream",
     "text": [
      "==================\n",
      "Your score:  1.1378466560602989\n",
      "==================\n"
     ]
    }
   ],
   "source": [
    "grader.score.ml__survey_model(survey_model.predict)"
   ]
  },
  {
   "cell_type": "markdown",
   "metadata": {},
   "source": [
    "*Copyright &copy; 2020 The Data Incubator.  All rights reserved.*"
   ]
  }
 ],
 "metadata": {
  "kernelspec": {
   "display_name": "Python 3",
   "language": "python",
   "name": "python3"
  },
  "language_info": {
   "codemirror_mode": {
    "name": "ipython",
    "version": 3
   },
   "file_extension": ".py",
   "mimetype": "text/x-python",
   "name": "python",
   "nbconvert_exporter": "python",
   "pygments_lexer": "ipython3",
   "version": "3.7.3"
  },
  "nbclean": true
 },
 "nbformat": 4,
 "nbformat_minor": 1
}
